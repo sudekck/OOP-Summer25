{
 "cells": [
  {
   "cell_type": "markdown",
   "id": "a3770a90",
   "metadata": {},
   "source": [
    "# Simplest Class Ever"
   ]
  },
  {
   "cell_type": "code",
   "execution_count": 3,
   "id": "66e7cc32",
   "metadata": {},
   "outputs": [],
   "source": [
    "class Book:\n",
    "    pass"
   ]
  },
  {
   "cell_type": "markdown",
   "id": "516f8f40",
   "metadata": {},
   "source": [
    "# What can we do with such class?\n"
   ]
  },
  {
   "cell_type": "markdown",
   "id": "e4236c7b",
   "metadata": {},
   "source": [
    "1. We can create object even if it is empty. "
   ]
  },
  {
   "cell_type": "code",
   "execution_count": 4,
   "id": "705a13cb",
   "metadata": {},
   "outputs": [
    {
     "data": {
      "text/plain": [
       "<__main__.Book at 0x7f6cf6bf5fa0>"
      ]
     },
     "execution_count": 4,
     "metadata": {},
     "output_type": "execute_result"
    }
   ],
   "source": [
    "Book()"
   ]
  },
  {
   "cell_type": "markdown",
   "id": "1c166858",
   "metadata": {},
   "source": [
    "2.We can create and assign the object to the variable. "
   ]
  },
  {
   "cell_type": "code",
   "execution_count": 6,
   "id": "326d4f55",
   "metadata": {},
   "outputs": [],
   "source": [
    "my_Book = Book()"
   ]
  }
 ],
 "metadata": {
  "kernelspec": {
   "display_name": "Python 3",
   "language": "python",
   "name": "python3"
  },
  "language_info": {
   "codemirror_mode": {
    "name": "ipython",
    "version": 3
   },
   "file_extension": ".py",
   "mimetype": "text/x-python",
   "name": "python",
   "nbconvert_exporter": "python",
   "pygments_lexer": "ipython3",
   "version": "3.12.1"
  }
 },
 "nbformat": 4,
 "nbformat_minor": 5
}
