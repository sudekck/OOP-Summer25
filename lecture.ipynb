{
 "cells": [
  {
   "cell_type": "markdown",
   "id": "a3770a90",
   "metadata": {},
   "source": [
    "# Simplest Class Ever"
   ]
  },
  {
   "cell_type": "code",
   "execution_count": 3,
   "id": "66e7cc32",
   "metadata": {},
   "outputs": [],
   "source": [
    "class Book:\n",
    "    pass"
   ]
  },
  {
   "cell_type": "markdown",
   "id": "516f8f40",
   "metadata": {},
   "source": [
    "# What can we do with such class?\n"
   ]
  },
  {
   "cell_type": "markdown",
   "id": "e4236c7b",
   "metadata": {},
   "source": [
    "1. We can create object even if it is empty. "
   ]
  },
  {
   "cell_type": "code",
   "execution_count": 4,
   "id": "705a13cb",
   "metadata": {},
   "outputs": [
    {
     "data": {
      "text/plain": [
       "<__main__.Book at 0x7f6cf6bf5fa0>"
      ]
     },
     "execution_count": 4,
     "metadata": {},
     "output_type": "execute_result"
    }
   ],
   "source": [
    "Book()"
   ]
  },
  {
   "cell_type": "markdown",
   "id": "1c166858",
   "metadata": {},
   "source": [
    "2.We can create and assign the object to the variable. "
   ]
  },
  {
   "cell_type": "code",
   "execution_count": 6,
   "id": "326d4f55",
   "metadata": {},
   "outputs": [],
   "source": [
    "my_Book = Book()"
   ]
  },
  {
   "cell_type": "markdown",
   "id": "cda1ae47",
   "metadata": {},
   "source": [
    "3. We can print the object with it's address in the memory. "
   ]
  },
  {
   "cell_type": "code",
   "execution_count": 8,
   "id": "ba5157c9",
   "metadata": {},
   "outputs": [
    {
     "name": "stdout",
     "output_type": "stream",
     "text": [
      "<__main__.Book object at 0x7f6cf6112900>\n"
     ]
    }
   ],
   "source": [
    "print(my_Book)"
   ]
  },
  {
   "cell_type": "markdown",
   "id": "adbfa06f",
   "metadata": {},
   "source": [
    "4. We can create multiple objects of that class."
   ]
  },
  {
   "cell_type": "code",
   "execution_count": 9,
   "id": "eea0057a",
   "metadata": {},
   "outputs": [],
   "source": [
    "my_Book_1 = Book()\n",
    "my_Book_2 = Book()\n",
    "my_Book_3 = Book()"
   ]
  },
  {
   "cell_type": "markdown",
   "id": "70648c9f",
   "metadata": {},
   "source": [
    "5.We can check the addresses on those objects in the memeory. "
   ]
  },
  {
   "cell_type": "code",
   "execution_count": 10,
   "id": "51982bd9",
   "metadata": {},
   "outputs": [
    {
     "name": "stdout",
     "output_type": "stream",
     "text": [
      "<__main__.Book object at 0x7f6cf6bf6480>\n",
      "<__main__.Book object at 0x7f6cf6bf7320>\n",
      "<__main__.Book object at 0x7f6cf6113ad0>\n"
     ]
    }
   ],
   "source": [
    "print(my_Book_1)\n",
    "print(my_Book_2)\n",
    "print(my_Book_3)"
   ]
  },
  {
   "cell_type": "markdown",
   "id": "ce681aa8",
   "metadata": {},
   "source": [
    "6. We can check the type of the object. "
   ]
  },
  {
   "cell_type": "code",
   "execution_count": 11,
   "id": "9b6075cd",
   "metadata": {},
   "outputs": [
    {
     "name": "stdout",
     "output_type": "stream",
     "text": [
      "<class '__main__.Book'>\n",
      "<class '__main__.Book'>\n",
      "<class '__main__.Book'>\n"
     ]
    }
   ],
   "source": [
    "print(type(my_Book_1))\n",
    "print(type(my_Book_2))\n",
    "print(type(my_Book_3))"
   ]
  }
 ],
 "metadata": {
  "kernelspec": {
   "display_name": "Python 3",
   "language": "python",
   "name": "python3"
  },
  "language_info": {
   "codemirror_mode": {
    "name": "ipython",
    "version": 3
   },
   "file_extension": ".py",
   "mimetype": "text/x-python",
   "name": "python",
   "nbconvert_exporter": "python",
   "pygments_lexer": "ipython3",
   "version": "3.12.1"
  }
 },
 "nbformat": 4,
 "nbformat_minor": 5
}
