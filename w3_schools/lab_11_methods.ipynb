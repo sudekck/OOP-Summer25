{
 "cells": [
  {
   "cell_type": "code",
   "execution_count": 30,
   "id": "0893445b",
   "metadata": {},
   "outputs": [],
   "source": [
    "def make_sound():\n",
    "    print(\"LaLA\")"
   ]
  },
  {
   "cell_type": "code",
   "execution_count": 31,
   "id": "58e7ffc6",
   "metadata": {},
   "outputs": [
    {
     "name": "stdout",
     "output_type": "stream",
     "text": [
      "LaLA\n"
     ]
    }
   ],
   "source": [
    "make_sound()"
   ]
  },
  {
   "cell_type": "code",
   "execution_count": 32,
   "id": "9f96d8ff",
   "metadata": {},
   "outputs": [],
   "source": [
    "def make_sound(name):\n",
    "    print(\"Land\")"
   ]
  },
  {
   "cell_type": "code",
   "execution_count": 33,
   "id": "c1857703",
   "metadata": {},
   "outputs": [
    {
     "name": "stdout",
     "output_type": "stream",
     "text": [
      "Land\n"
     ]
    }
   ],
   "source": [
    "make_sound(\"Land\")"
   ]
  },
  {
   "cell_type": "code",
   "execution_count": 34,
   "id": "42c4a7c2",
   "metadata": {},
   "outputs": [],
   "source": [
    "class MyAnimal:\n",
    "    def make_sound(self):\n",
    "        print(\"Hello\")"
   ]
  },
  {
   "cell_type": "code",
   "execution_count": null,
   "id": "58504f42",
   "metadata": {},
   "outputs": [
    {
     "name": "stdout",
     "output_type": "stream",
     "text": [
      "Hello\n"
     ]
    }
   ],
   "source": [
    "my_cat1 = MyAnimal()\n",
    "my_cat1.make_sound()"
   ]
  },
  {
   "cell_type": "code",
   "execution_count": 36,
   "id": "a504682f",
   "metadata": {},
   "outputs": [],
   "source": [
    "class MyAnimal:\n",
    "    def make_sound(self,name):\n",
    "        print(\"Hello\",name)"
   ]
  },
  {
   "cell_type": "code",
   "execution_count": null,
   "id": "41be7dee",
   "metadata": {},
   "outputs": [
    {
     "name": "stdout",
     "output_type": "stream",
     "text": [
      "Hello Sude\n"
     ]
    }
   ],
   "source": [
    "my_cat2 = MyAnimal()\n",
    "my_cat2.make_sound(\"Sude\")"
   ]
  }
 ],
 "metadata": {
  "kernelspec": {
   "display_name": "Python 3",
   "language": "python",
   "name": "python3"
  },
  "language_info": {
   "codemirror_mode": {
    "name": "ipython",
    "version": 3
   },
   "file_extension": ".py",
   "mimetype": "text/x-python",
   "name": "python",
   "nbconvert_exporter": "python",
   "pygments_lexer": "ipython3",
   "version": "3.12.1"
  }
 },
 "nbformat": 4,
 "nbformat_minor": 5
}
