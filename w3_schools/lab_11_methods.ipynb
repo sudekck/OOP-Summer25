{
 "cells": [
  {
   "cell_type": "code",
   "execution_count": 8,
   "id": "0893445b",
   "metadata": {},
   "outputs": [],
   "source": [
    "def make_sound():\n",
    "    print(\"LaLA\")"
   ]
  },
  {
   "cell_type": "code",
   "execution_count": 9,
   "id": "58e7ffc6",
   "metadata": {},
   "outputs": [
    {
     "name": "stdout",
     "output_type": "stream",
     "text": [
      "LaLA\n"
     ]
    }
   ],
   "source": [
    "make_sound()"
   ]
  },
  {
   "cell_type": "code",
   "execution_count": null,
   "id": "9f96d8ff",
   "metadata": {},
   "outputs": [],
   "source": [
    "def make_sound(name):\n",
    "    print(\"Land\")"
   ]
  },
  {
   "cell_type": "code",
   "execution_count": 11,
   "id": "c1857703",
   "metadata": {},
   "outputs": [
    {
     "name": "stdout",
     "output_type": "stream",
     "text": [
      "Land\n"
     ]
    }
   ],
   "source": [
    "make_sound(\"Land\")"
   ]
  },
  {
   "cell_type": "code",
   "execution_count": null,
   "id": "42c4a7c2",
   "metadata": {},
   "outputs": [],
   "source": []
  }
 ],
 "metadata": {
  "kernelspec": {
   "display_name": "Python 3",
   "language": "python",
   "name": "python3"
  },
  "language_info": {
   "codemirror_mode": {
    "name": "ipython",
    "version": 3
   },
   "file_extension": ".py",
   "mimetype": "text/x-python",
   "name": "python",
   "nbconvert_exporter": "python",
   "pygments_lexer": "ipython3",
   "version": "3.12.1"
  }
 },
 "nbformat": 4,
 "nbformat_minor": 5
}
