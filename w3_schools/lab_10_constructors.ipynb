{
 "cells": [
  {
   "cell_type": "code",
   "execution_count": 6,
   "id": "2e28295b",
   "metadata": {},
   "outputs": [],
   "source": [
    "class Animal:\n",
    "    def __init__(self):\n",
    "        print(\"New animal\")\n",
    "my_animal = Animal"
   ]
  },
  {
   "cell_type": "code",
   "execution_count": 7,
   "id": "d2e0e490",
   "metadata": {},
   "outputs": [],
   "source": [
    "class Animal:\n",
    "    def __init__(self, type, age, number_of_legs):\n",
    "        self.type = type\n",
    "        self.age = age\n",
    "        self.number_of_legs = number_of_legs\n",
    "a1 = Animal(\"Cat\",2,4)\n",
    "a2 = Animal(\"Dog\",1,4)\n",
    "a3 = Animal(\"Monkey\",11,2)        "
   ]
  },
  {
   "cell_type": "code",
   "execution_count": 8,
   "id": "91a4f213",
   "metadata": {},
   "outputs": [],
   "source": [
    "class Car:\n",
    "    def __init__(self,brand,model):\n",
    "        self.brand = brand\n",
    "        self.model = model\n",
    "\n",
    "c1 = Car(\"Volkswagen\", \"2021 Passat\")\n",
    "c2 = Car(\"BMW\", \"2024 M4\")\n",
    "\n",
    "        "
   ]
  }
 ],
 "metadata": {
  "kernelspec": {
   "display_name": "Python 3",
   "language": "python",
   "name": "python3"
  },
  "language_info": {
   "codemirror_mode": {
    "name": "ipython",
    "version": 3
   },
   "file_extension": ".py",
   "mimetype": "text/x-python",
   "name": "python",
   "nbconvert_exporter": "python",
   "pygments_lexer": "ipython3",
   "version": "3.12.1"
  }
 },
 "nbformat": 4,
 "nbformat_minor": 5
}
