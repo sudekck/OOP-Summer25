{
 "cells": [
  {
   "cell_type": "code",
   "execution_count": 12,
   "id": "2e28295b",
   "metadata": {},
   "outputs": [],
   "source": [
    "class Animal:\n",
    "    def __init__(self):\n",
    "        print(\"New animal\")\n",
    "my_animal = Animal"
   ]
  },
  {
   "cell_type": "code",
   "execution_count": 13,
   "id": "d2e0e490",
   "metadata": {},
   "outputs": [],
   "source": [
    "class Animal:\n",
    "    def __init__(self, type, age, number_of_legs):\n",
    "        self.type = type\n",
    "        self.age = age\n",
    "        self.number_of_legs = number_of_legs\n",
    "a1 = Animal(\"Cat\",2,4)\n",
    "a2 = Animal(\"Dog\",1,4)\n",
    "a3 = Animal(\"Monkey\",11,2)        "
   ]
  },
  {
   "cell_type": "code",
   "execution_count": 14,
   "id": "91a4f213",
   "metadata": {},
   "outputs": [],
   "source": [
    "class Car:\n",
    "    def __init__(self,brand,model):\n",
    "        self.brand = brand\n",
    "        self.model = model\n",
    "\n",
    "c1 = Car(\"Volkswagen\", \"2021 Passat\")\n",
    "c2 = Car(\"BMW\", \"2024 M4\")\n",
    "c3 = Car(\"Mercedes\", \"2020 G Vagon\")\n"
   ]
  },
  {
   "cell_type": "markdown",
   "id": "6956a14d",
   "metadata": {},
   "source": [
    "## Task for extra point - complex constructor"
   ]
  },
  {
   "cell_type": "code",
   "execution_count": 15,
   "id": "245451ad",
   "metadata": {},
   "outputs": [],
   "source": [
    "class House:\n",
    "    def __init__(self,location,floors,furnitures):\n",
    "        self.location = location\n",
    "        self.floors = floors\n",
    "        self.furnitures = furnitures\n",
    "h1 = House({'Country': 'Turkey',\n",
    "            'City': 'İzmir',\n",
    "            'Street': 'Atakent'},2,\"Bed,TV,Dishwasher\")\n",
    "h2 = House({'Country': 'Canada',\n",
    "            'City': 'Ottowa',\n",
    "            'Street': 'Dunkin'},4,\"Carpet,Wardrobe\")"
   ]
  }
 ],
 "metadata": {
  "kernelspec": {
   "display_name": "Python 3",
   "language": "python",
   "name": "python3"
  },
  "language_info": {
   "codemirror_mode": {
    "name": "ipython",
    "version": 3
   },
   "file_extension": ".py",
   "mimetype": "text/x-python",
   "name": "python",
   "nbconvert_exporter": "python",
   "pygments_lexer": "ipython3",
   "version": "3.12.1"
  }
 },
 "nbformat": 4,
 "nbformat_minor": 5
}
