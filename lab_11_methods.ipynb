{
 "cells": [
  {
   "cell_type": "code",
   "execution_count": 1,
   "id": "40469e64",
   "metadata": {},
   "outputs": [],
   "source": [
    "class Student:\n",
    "    def hello(self):\n",
    "        print(\"Hello student\")"
   ]
  },
  {
   "cell_type": "code",
   "execution_count": null,
   "id": "eac8006d",
   "metadata": {},
   "outputs": [],
   "source": [
    "s1 = Student()\n",
    "s1.hello()"
   ]
  }
 ],
 "metadata": {
  "kernelspec": {
   "display_name": "Python 3",
   "language": "python",
   "name": "python3"
  },
  "language_info": {
   "codemirror_mode": {
    "name": "ipython",
    "version": 3
   },
   "file_extension": ".py",
   "mimetype": "text/x-python",
   "name": "python",
   "nbconvert_exporter": "python",
   "pygments_lexer": "ipython3",
   "version": "3.12.1"
  }
 },
 "nbformat": 4,
 "nbformat_minor": 5
}
