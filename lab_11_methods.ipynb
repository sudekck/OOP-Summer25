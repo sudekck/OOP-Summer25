{
 "cells": [
  {
   "cell_type": "code",
   "execution_count": 1,
   "id": "40469e64",
   "metadata": {},
   "outputs": [],
   "source": [
    "class Student:\n",
    "    def __init__(self):\n",
    "        self.hello()\n",
    "    def hello(self):\n",
    "        print(\"hello student\")"
   ]
  },
  {
   "cell_type": "code",
   "execution_count": 2,
   "id": "eac8006d",
   "metadata": {},
   "outputs": [
    {
     "name": "stdout",
     "output_type": "stream",
     "text": [
      "hello student\n"
     ]
    }
   ],
   "source": [
    "s1 = Student()\n"
   ]
  },
  {
   "cell_type": "code",
   "execution_count": 3,
   "id": "3755505a",
   "metadata": {},
   "outputs": [
    {
     "name": "stdout",
     "output_type": "stream",
     "text": [
      "Hello, I am Sude my index number is 34783\n"
     ]
    }
   ],
   "source": [
    "class Student:\n",
    "    def __init__(self,name,index_number):\n",
    "        self.name=name\n",
    "        self.index_number=index_number\n",
    "    def hello(self):\n",
    "        print(f\"Hello, I am {self.name} my index number is {self.index_number}\")\n",
    "        \n",
    "\n",
    "s2=Student(\"Sude\",34783)\n",
    "s2.hello()\n"
   ]
  }
 ],
 "metadata": {
  "kernelspec": {
   "display_name": "Python 3",
   "language": "python",
   "name": "python3"
  },
  "language_info": {
   "codemirror_mode": {
    "name": "ipython",
    "version": 3
   },
   "file_extension": ".py",
   "mimetype": "text/x-python",
   "name": "python",
   "nbconvert_exporter": "python",
   "pygments_lexer": "ipython3",
   "version": "3.12.1"
  }
 },
 "nbformat": 4,
 "nbformat_minor": 5
}
